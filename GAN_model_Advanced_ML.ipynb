{
  "nbformat": 4,
  "nbformat_minor": 0,
  "metadata": {
    "colab": {
      "provenance": [],
      "gpuType": "T4"
    },
    "kernelspec": {
      "name": "python3",
      "display_name": "Python 3"
    },
    "language_info": {
      "name": "python"
    },
    "accelerator": "GPU"
  },
  "cells": [
    {
      "cell_type": "markdown",
      "source": [
        "##Generative Adversarial Network (GAN) for MNIST\n"
      ],
      "metadata": {
        "id": "hfvnuXL2H-md"
      }
    },
    {
      "cell_type": "code",
      "source": [
        "import torch\n",
        "import torch.nn as nn\n",
        "import torch.optim as optim\n",
        "from torchvision import datasets, transforms\n",
        "from torch.utils.data import DataLoader\n",
        "from torch.autograd.variable import Variable\n"
      ],
      "metadata": {
        "id": "ALb5U6QSEr_F"
      },
      "execution_count": null,
      "outputs": []
    },
    {
      "cell_type": "code",
      "source": [
        "class Generator(nn.Module):\n",
        "    def __init__(self, z_dim):\n",
        "        super(Generator, self).__init__()\n",
        "        self.z_dim = z_dim\n",
        "        self.model = nn.Sequential(\n",
        "            nn.Linear(self.z_dim, 256),\n",
        "            nn.LeakyReLU(0.2),\n",
        "            nn.Linear(256, 512),\n",
        "            nn.LeakyReLU(0.2),\n",
        "            nn.Linear(512, 1024),\n",
        "            nn.LeakyReLU(0.2),\n",
        "            nn.Linear(1024, 784),\n",
        "            nn.Tanh()\n",
        "        )\n",
        "\n",
        "    def forward(self, x):\n",
        "        return self.model(x)\n",
        "\n",
        "\n",
        "class Discriminator(nn.Module):\n",
        "    def __init__(self):\n",
        "        super(Discriminator, self).__init__()\n",
        "        self.model = nn.Sequential(\n",
        "            nn.Linear(784, 512),\n",
        "            nn.LeakyReLU(0.2),\n",
        "            nn.Linear(512, 256),\n",
        "            nn.LeakyReLU(0.2),\n",
        "            nn.Linear(256, 1),\n",
        "            nn.Sigmoid()\n",
        "        )\n",
        "\n",
        "    def forward(self, x):\n",
        "        x = x.view(x.size(0), -1)\n",
        "        return self.model(x)\n"
      ],
      "metadata": {
        "id": "ce42tflgFsjK"
      },
      "execution_count": null,
      "outputs": []
    },
    {
      "cell_type": "code",
      "source": [
        "# Hyperparameters\n",
        "bs = 100  # Batch size\n",
        "z_dim = 100  # Latent vector size\n",
        "\n",
        "# Device configuration\n",
        "device = torch.device('cuda' if torch.cuda.is_available() else 'cpu')\n",
        "\n",
        "# MNIST dataset\n",
        "transform = transforms.Compose([\n",
        "    transforms.ToTensor(),\n",
        "    transforms.Normalize(mean=(0.5,), std=(0.5,))\n",
        "])\n",
        "\n",
        "mnist_dataset = datasets.MNIST(root='./data', train=True, transform=transform, download=True)\n",
        "data_loader = DataLoader(dataset=mnist_dataset, batch_size=bs, shuffle=True)\n"
      ],
      "metadata": {
        "id": "lC8TV9h_Fu7F"
      },
      "execution_count": null,
      "outputs": []
    },
    {
      "cell_type": "code",
      "source": [
        "# Initialize generator and discriminator\n",
        "generator = Generator(z_dim).to(device)\n",
        "discriminator = Discriminator().to(device)\n",
        "\n",
        "# Loss function\n",
        "criterion = nn.BCELoss()\n",
        "\n",
        "# Optimizers\n",
        "g_optimizer = optim.Adam(generator.parameters(), lr=0.0002, betas=(0.5, 0.999))\n",
        "d_optimizer = optim.Adam(discriminator.parameters(), lr=0.0002, betas=(0.5, 0.999))\n"
      ],
      "metadata": {
        "id": "CoJfSQwrFzRc"
      },
      "execution_count": null,
      "outputs": []
    },
    {
      "cell_type": "code",
      "source": [
        "num_epochs = 100\n",
        "\n",
        "for epoch in range(num_epochs):\n",
        "    for batch_idx, (real_images, _) in enumerate(data_loader):\n",
        "        real_images = real_images.to(device)\n",
        "\n",
        "        # Train discriminator\n",
        "        d_optimizer.zero_grad()\n",
        "        real_labels = torch.ones(bs, 1).to(device)\n",
        "        fake_labels = torch.zeros(bs, 1).to(device)\n",
        "\n",
        "        # Discriminator loss with real images\n",
        "        real_outputs = discriminator(real_images)\n",
        "        d_loss_real = criterion(real_outputs, real_labels)\n",
        "        real_score = torch.mean(real_outputs).item()\n",
        "\n",
        "        # Discriminator loss with fake images\n",
        "        z = Variable(torch.randn(bs, z_dim).to(device))\n",
        "        fake_images = generator(z)\n",
        "        fake_outputs = discriminator(fake_images.detach())\n",
        "        d_loss_fake = criterion(fake_outputs, fake_labels)\n",
        "        fake_score = torch.mean(fake_outputs).item()\n",
        "\n",
        "        # Total discriminator loss\n",
        "        d_loss = d_loss_real + d_loss_fake\n",
        "        d_loss.backward()\n",
        "        d_optimizer.step()\n",
        "\n",
        "        # Train generator\n",
        "        g_optimizer.zero_grad()\n",
        "        z = Variable(torch.randn(bs, z_dim).to(device))\n",
        "        fake_images = generator(z)\n",
        "        outputs = discriminator(fake_images)\n",
        "        g_loss = criterion(outputs, real_labels)\n",
        "        g_loss.backward()\n",
        "        g_optimizer.step()\n",
        "\n",
        "        # Print the losses and scores\n",
        "        if (batch_idx + 1) % 200 == 0:\n",
        "            print(\n",
        "                f\"Epoch [{epoch + 1}/{num_epochs}], \"\n",
        "                f\"Batch [{batch_idx + 1}/{len(data_loader)}], \"\n",
        "                f\"D_loss: {d_loss.item():.4f}, G_loss: {g_loss.item():.4f}, \"\n",
        "                f\"D(x): {real_score:.2f}, D(G(z)): {fake_score:.2f}\"\n",
        "            )\n"
      ],
      "metadata": {
        "colab": {
          "base_uri": "https://localhost:8080/"
        },
        "id": "oK70QklqF3Ns",
        "outputId": "f1aa3b32-af99-45dd-959d-7258d21293ee"
      },
      "execution_count": null,
      "outputs": [
        {
          "output_type": "stream",
          "name": "stdout",
          "text": [
            "Epoch [1/100], Batch [200/600], D_loss: 1.4764, G_loss: 0.8104, D(x): 0.53, D(G(z)): 0.57\n",
            "Epoch [1/100], Batch [400/600], D_loss: 1.1731, G_loss: 1.0643, D(x): 0.63, D(G(z)): 0.51\n",
            "Epoch [1/100], Batch [600/600], D_loss: 0.9963, G_loss: 1.7157, D(x): 0.76, D(G(z)): 0.50\n",
            "Epoch [2/100], Batch [200/600], D_loss: 1.2719, G_loss: 1.0733, D(x): 0.51, D(G(z)): 0.33\n",
            "Epoch [2/100], Batch [400/600], D_loss: 1.1572, G_loss: 2.7639, D(x): 0.89, D(G(z)): 0.63\n",
            "Epoch [2/100], Batch [600/600], D_loss: 1.2219, G_loss: 1.7738, D(x): 0.81, D(G(z)): 0.63\n",
            "Epoch [3/100], Batch [200/600], D_loss: 0.9369, G_loss: 1.1355, D(x): 0.59, D(G(z)): 0.27\n",
            "Epoch [3/100], Batch [400/600], D_loss: 0.9872, G_loss: 1.1284, D(x): 0.55, D(G(z)): 0.19\n",
            "Epoch [3/100], Batch [600/600], D_loss: 1.2013, G_loss: 0.7322, D(x): 0.44, D(G(z)): 0.14\n",
            "Epoch [4/100], Batch [200/600], D_loss: 0.9784, G_loss: 2.1261, D(x): 0.83, D(G(z)): 0.51\n",
            "Epoch [4/100], Batch [400/600], D_loss: 1.0544, G_loss: 1.3932, D(x): 0.62, D(G(z)): 0.28\n",
            "Epoch [4/100], Batch [600/600], D_loss: 0.9099, G_loss: 1.2132, D(x): 0.55, D(G(z)): 0.17\n",
            "Epoch [5/100], Batch [200/600], D_loss: 0.8797, G_loss: 1.4412, D(x): 0.67, D(G(z)): 0.31\n",
            "Epoch [5/100], Batch [400/600], D_loss: 1.1125, G_loss: 2.0934, D(x): 0.77, D(G(z)): 0.53\n",
            "Epoch [5/100], Batch [600/600], D_loss: 0.9199, G_loss: 2.5134, D(x): 0.85, D(G(z)): 0.48\n",
            "Epoch [6/100], Batch [200/600], D_loss: 0.7045, G_loss: 1.4384, D(x): 0.68, D(G(z)): 0.19\n",
            "Epoch [6/100], Batch [400/600], D_loss: 0.7409, G_loss: 1.7511, D(x): 0.78, D(G(z)): 0.34\n",
            "Epoch [6/100], Batch [600/600], D_loss: 0.9299, G_loss: 1.3657, D(x): 0.57, D(G(z)): 0.13\n",
            "Epoch [7/100], Batch [200/600], D_loss: 0.6673, G_loss: 1.7772, D(x): 0.71, D(G(z)): 0.22\n",
            "Epoch [7/100], Batch [400/600], D_loss: 0.9807, G_loss: 3.2897, D(x): 0.88, D(G(z)): 0.55\n",
            "Epoch [7/100], Batch [600/600], D_loss: 0.6687, G_loss: 1.3384, D(x): 0.73, D(G(z)): 0.22\n",
            "Epoch [8/100], Batch [200/600], D_loss: 0.8183, G_loss: 1.9198, D(x): 0.71, D(G(z)): 0.27\n",
            "Epoch [8/100], Batch [400/600], D_loss: 0.7425, G_loss: 2.1121, D(x): 0.78, D(G(z)): 0.34\n",
            "Epoch [8/100], Batch [600/600], D_loss: 0.8879, G_loss: 2.2497, D(x): 0.76, D(G(z)): 0.37\n",
            "Epoch [9/100], Batch [200/600], D_loss: 1.2628, G_loss: 0.6158, D(x): 0.46, D(G(z)): 0.15\n",
            "Epoch [9/100], Batch [400/600], D_loss: 0.9142, G_loss: 1.4304, D(x): 0.69, D(G(z)): 0.35\n",
            "Epoch [9/100], Batch [600/600], D_loss: 0.9850, G_loss: 2.2626, D(x): 0.86, D(G(z)): 0.53\n",
            "Epoch [10/100], Batch [200/600], D_loss: 1.0375, G_loss: 0.7545, D(x): 0.54, D(G(z)): 0.22\n",
            "Epoch [10/100], Batch [400/600], D_loss: 1.0602, G_loss: 1.0406, D(x): 0.57, D(G(z)): 0.28\n",
            "Epoch [10/100], Batch [600/600], D_loss: 1.2664, G_loss: 0.8383, D(x): 0.47, D(G(z)): 0.29\n",
            "Epoch [11/100], Batch [200/600], D_loss: 0.9969, G_loss: 0.9610, D(x): 0.57, D(G(z)): 0.23\n",
            "Epoch [11/100], Batch [400/600], D_loss: 1.0071, G_loss: 1.4910, D(x): 0.68, D(G(z)): 0.42\n",
            "Epoch [11/100], Batch [600/600], D_loss: 1.1509, G_loss: 1.2503, D(x): 0.62, D(G(z)): 0.43\n",
            "Epoch [12/100], Batch [200/600], D_loss: 1.1740, G_loss: 0.7994, D(x): 0.54, D(G(z)): 0.35\n",
            "Epoch [12/100], Batch [400/600], D_loss: 1.0401, G_loss: 0.9051, D(x): 0.56, D(G(z)): 0.27\n",
            "Epoch [12/100], Batch [600/600], D_loss: 1.2448, G_loss: 1.3040, D(x): 0.74, D(G(z)): 0.56\n",
            "Epoch [13/100], Batch [200/600], D_loss: 1.1309, G_loss: 1.0147, D(x): 0.54, D(G(z)): 0.33\n",
            "Epoch [13/100], Batch [400/600], D_loss: 1.1729, G_loss: 1.0879, D(x): 0.59, D(G(z)): 0.42\n",
            "Epoch [13/100], Batch [600/600], D_loss: 1.1422, G_loss: 1.0670, D(x): 0.60, D(G(z)): 0.41\n",
            "Epoch [14/100], Batch [200/600], D_loss: 1.1762, G_loss: 1.1005, D(x): 0.64, D(G(z)): 0.47\n",
            "Epoch [14/100], Batch [400/600], D_loss: 1.1639, G_loss: 1.3780, D(x): 0.68, D(G(z)): 0.50\n",
            "Epoch [14/100], Batch [600/600], D_loss: 1.2226, G_loss: 0.6665, D(x): 0.45, D(G(z)): 0.24\n",
            "Epoch [15/100], Batch [200/600], D_loss: 1.2195, G_loss: 1.4381, D(x): 0.74, D(G(z)): 0.54\n",
            "Epoch [15/100], Batch [400/600], D_loss: 1.1452, G_loss: 1.2086, D(x): 0.62, D(G(z)): 0.43\n",
            "Epoch [15/100], Batch [600/600], D_loss: 1.3320, G_loss: 0.5522, D(x): 0.38, D(G(z)): 0.22\n",
            "Epoch [16/100], Batch [200/600], D_loss: 1.0657, G_loss: 1.0514, D(x): 0.64, D(G(z)): 0.42\n",
            "Epoch [16/100], Batch [400/600], D_loss: 1.1926, G_loss: 1.1483, D(x): 0.62, D(G(z)): 0.46\n",
            "Epoch [16/100], Batch [600/600], D_loss: 1.1505, G_loss: 1.5040, D(x): 0.74, D(G(z)): 0.54\n",
            "Epoch [17/100], Batch [200/600], D_loss: 1.0227, G_loss: 1.2264, D(x): 0.60, D(G(z)): 0.34\n",
            "Epoch [17/100], Batch [400/600], D_loss: 1.3626, G_loss: 1.7805, D(x): 0.78, D(G(z)): 0.62\n",
            "Epoch [17/100], Batch [600/600], D_loss: 1.1757, G_loss: 0.9156, D(x): 0.52, D(G(z)): 0.35\n",
            "Epoch [18/100], Batch [200/600], D_loss: 1.0931, G_loss: 0.8266, D(x): 0.55, D(G(z)): 0.33\n",
            "Epoch [18/100], Batch [400/600], D_loss: 1.1556, G_loss: 1.1205, D(x): 0.60, D(G(z)): 0.43\n",
            "Epoch [18/100], Batch [600/600], D_loss: 1.3678, G_loss: 0.4898, D(x): 0.39, D(G(z)): 0.25\n",
            "Epoch [19/100], Batch [200/600], D_loss: 1.1260, G_loss: 1.0240, D(x): 0.58, D(G(z)): 0.39\n",
            "Epoch [19/100], Batch [400/600], D_loss: 1.1290, G_loss: 1.4636, D(x): 0.69, D(G(z)): 0.49\n",
            "Epoch [19/100], Batch [600/600], D_loss: 1.1167, G_loss: 1.0457, D(x): 0.60, D(G(z)): 0.40\n",
            "Epoch [20/100], Batch [200/600], D_loss: 1.1989, G_loss: 0.9930, D(x): 0.55, D(G(z)): 0.39\n",
            "Epoch [20/100], Batch [400/600], D_loss: 1.3655, G_loss: 0.5493, D(x): 0.37, D(G(z)): 0.21\n",
            "Epoch [20/100], Batch [600/600], D_loss: 1.0712, G_loss: 0.9649, D(x): 0.57, D(G(z)): 0.35\n",
            "Epoch [21/100], Batch [200/600], D_loss: 1.0654, G_loss: 1.1511, D(x): 0.65, D(G(z)): 0.43\n",
            "Epoch [21/100], Batch [400/600], D_loss: 1.1195, G_loss: 1.3343, D(x): 0.67, D(G(z)): 0.46\n",
            "Epoch [21/100], Batch [600/600], D_loss: 1.1057, G_loss: 0.9556, D(x): 0.58, D(G(z)): 0.37\n",
            "Epoch [22/100], Batch [200/600], D_loss: 1.2789, G_loss: 0.6573, D(x): 0.40, D(G(z)): 0.23\n",
            "Epoch [22/100], Batch [400/600], D_loss: 1.1561, G_loss: 0.8568, D(x): 0.51, D(G(z)): 0.33\n",
            "Epoch [22/100], Batch [600/600], D_loss: 1.1247, G_loss: 1.0955, D(x): 0.60, D(G(z)): 0.42\n",
            "Epoch [23/100], Batch [200/600], D_loss: 1.2097, G_loss: 1.3256, D(x): 0.69, D(G(z)): 0.50\n",
            "Epoch [23/100], Batch [400/600], D_loss: 1.1525, G_loss: 1.1890, D(x): 0.66, D(G(z)): 0.47\n",
            "Epoch [23/100], Batch [600/600], D_loss: 1.1477, G_loss: 1.1129, D(x): 0.61, D(G(z)): 0.42\n",
            "Epoch [24/100], Batch [200/600], D_loss: 1.1952, G_loss: 0.6845, D(x): 0.51, D(G(z)): 0.33\n",
            "Epoch [24/100], Batch [400/600], D_loss: 1.1277, G_loss: 1.2871, D(x): 0.65, D(G(z)): 0.46\n",
            "Epoch [24/100], Batch [600/600], D_loss: 1.1906, G_loss: 1.3749, D(x): 0.64, D(G(z)): 0.47\n",
            "Epoch [25/100], Batch [200/600], D_loss: 1.1753, G_loss: 1.4201, D(x): 0.70, D(G(z)): 0.50\n",
            "Epoch [25/100], Batch [400/600], D_loss: 1.2928, G_loss: 1.3047, D(x): 0.65, D(G(z)): 0.52\n",
            "Epoch [25/100], Batch [600/600], D_loss: 1.1081, G_loss: 1.2324, D(x): 0.59, D(G(z)): 0.39\n",
            "Epoch [26/100], Batch [200/600], D_loss: 1.1355, G_loss: 0.6911, D(x): 0.48, D(G(z)): 0.26\n",
            "Epoch [26/100], Batch [400/600], D_loss: 1.1962, G_loss: 0.8330, D(x): 0.51, D(G(z)): 0.34\n",
            "Epoch [26/100], Batch [600/600], D_loss: 1.1921, G_loss: 1.0870, D(x): 0.59, D(G(z)): 0.44\n",
            "Epoch [27/100], Batch [200/600], D_loss: 1.2433, G_loss: 1.3387, D(x): 0.70, D(G(z)): 0.54\n",
            "Epoch [27/100], Batch [400/600], D_loss: 1.1325, G_loss: 0.8154, D(x): 0.53, D(G(z)): 0.32\n",
            "Epoch [27/100], Batch [600/600], D_loss: 1.1314, G_loss: 1.4702, D(x): 0.67, D(G(z)): 0.48\n",
            "Epoch [28/100], Batch [200/600], D_loss: 1.2222, G_loss: 1.2780, D(x): 0.71, D(G(z)): 0.55\n",
            "Epoch [28/100], Batch [400/600], D_loss: 1.1293, G_loss: 0.9089, D(x): 0.54, D(G(z)): 0.33\n",
            "Epoch [28/100], Batch [600/600], D_loss: 1.0142, G_loss: 0.8868, D(x): 0.58, D(G(z)): 0.32\n",
            "Epoch [29/100], Batch [200/600], D_loss: 1.1102, G_loss: 0.8063, D(x): 0.54, D(G(z)): 0.32\n",
            "Epoch [29/100], Batch [400/600], D_loss: 1.1510, G_loss: 1.1490, D(x): 0.61, D(G(z)): 0.42\n",
            "Epoch [29/100], Batch [600/600], D_loss: 1.2676, G_loss: 0.6115, D(x): 0.42, D(G(z)): 0.24\n",
            "Epoch [30/100], Batch [200/600], D_loss: 1.0960, G_loss: 1.1094, D(x): 0.61, D(G(z)): 0.40\n",
            "Epoch [30/100], Batch [400/600], D_loss: 1.3898, G_loss: 0.8025, D(x): 0.42, D(G(z)): 0.30\n",
            "Epoch [30/100], Batch [600/600], D_loss: 1.2793, G_loss: 0.6303, D(x): 0.41, D(G(z)): 0.23\n",
            "Epoch [31/100], Batch [200/600], D_loss: 1.2267, G_loss: 1.3793, D(x): 0.71, D(G(z)): 0.54\n",
            "Epoch [31/100], Batch [400/600], D_loss: 1.2036, G_loss: 0.7427, D(x): 0.50, D(G(z)): 0.32\n",
            "Epoch [31/100], Batch [600/600], D_loss: 1.2089, G_loss: 1.0380, D(x): 0.67, D(G(z)): 0.51\n",
            "Epoch [32/100], Batch [200/600], D_loss: 1.0472, G_loss: 1.0118, D(x): 0.66, D(G(z)): 0.44\n",
            "Epoch [32/100], Batch [400/600], D_loss: 1.0889, G_loss: 1.0595, D(x): 0.60, D(G(z)): 0.38\n",
            "Epoch [32/100], Batch [600/600], D_loss: 1.2433, G_loss: 1.2751, D(x): 0.70, D(G(z)): 0.52\n",
            "Epoch [33/100], Batch [200/600], D_loss: 1.1561, G_loss: 0.6447, D(x): 0.53, D(G(z)): 0.35\n",
            "Epoch [33/100], Batch [400/600], D_loss: 1.1281, G_loss: 1.1257, D(x): 0.62, D(G(z)): 0.44\n",
            "Epoch [33/100], Batch [600/600], D_loss: 1.1921, G_loss: 1.6916, D(x): 0.72, D(G(z)): 0.53\n",
            "Epoch [34/100], Batch [200/600], D_loss: 1.1125, G_loss: 1.1659, D(x): 0.61, D(G(z)): 0.40\n",
            "Epoch [34/100], Batch [400/600], D_loss: 1.2065, G_loss: 1.4417, D(x): 0.71, D(G(z)): 0.53\n",
            "Epoch [34/100], Batch [600/600], D_loss: 1.1951, G_loss: 1.2147, D(x): 0.69, D(G(z)): 0.52\n",
            "Epoch [35/100], Batch [200/600], D_loss: 1.1007, G_loss: 0.9504, D(x): 0.52, D(G(z)): 0.30\n",
            "Epoch [35/100], Batch [400/600], D_loss: 1.2281, G_loss: 0.7255, D(x): 0.45, D(G(z)): 0.25\n",
            "Epoch [35/100], Batch [600/600], D_loss: 1.1200, G_loss: 1.0532, D(x): 0.56, D(G(z)): 0.34\n",
            "Epoch [36/100], Batch [200/600], D_loss: 1.1731, G_loss: 0.7513, D(x): 0.50, D(G(z)): 0.32\n",
            "Epoch [36/100], Batch [400/600], D_loss: 1.1407, G_loss: 1.1606, D(x): 0.59, D(G(z)): 0.38\n",
            "Epoch [36/100], Batch [600/600], D_loss: 1.0968, G_loss: 0.8775, D(x): 0.58, D(G(z)): 0.39\n",
            "Epoch [37/100], Batch [200/600], D_loss: 1.0514, G_loss: 1.1671, D(x): 0.65, D(G(z)): 0.42\n",
            "Epoch [37/100], Batch [400/600], D_loss: 1.0946, G_loss: 1.2166, D(x): 0.64, D(G(z)): 0.44\n",
            "Epoch [37/100], Batch [600/600], D_loss: 1.0591, G_loss: 1.0627, D(x): 0.63, D(G(z)): 0.40\n",
            "Epoch [38/100], Batch [200/600], D_loss: 1.1808, G_loss: 1.4709, D(x): 0.73, D(G(z)): 0.54\n",
            "Epoch [38/100], Batch [400/600], D_loss: 1.1586, G_loss: 1.5075, D(x): 0.67, D(G(z)): 0.48\n",
            "Epoch [38/100], Batch [600/600], D_loss: 1.1660, G_loss: 0.8485, D(x): 0.48, D(G(z)): 0.27\n",
            "Epoch [39/100], Batch [200/600], D_loss: 1.3499, G_loss: 1.4827, D(x): 0.80, D(G(z)): 0.64\n",
            "Epoch [39/100], Batch [400/600], D_loss: 1.0862, G_loss: 1.2104, D(x): 0.60, D(G(z)): 0.40\n",
            "Epoch [39/100], Batch [600/600], D_loss: 1.2817, G_loss: 0.7664, D(x): 0.45, D(G(z)): 0.32\n",
            "Epoch [40/100], Batch [200/600], D_loss: 1.1127, G_loss: 1.0683, D(x): 0.69, D(G(z)): 0.48\n",
            "Epoch [40/100], Batch [400/600], D_loss: 1.2008, G_loss: 1.0939, D(x): 0.65, D(G(z)): 0.48\n",
            "Epoch [40/100], Batch [600/600], D_loss: 1.1447, G_loss: 1.1895, D(x): 0.60, D(G(z)): 0.42\n",
            "Epoch [41/100], Batch [200/600], D_loss: 1.1802, G_loss: 1.2253, D(x): 0.65, D(G(z)): 0.47\n",
            "Epoch [41/100], Batch [400/600], D_loss: 1.0531, G_loss: 1.1467, D(x): 0.62, D(G(z)): 0.39\n",
            "Epoch [41/100], Batch [600/600], D_loss: 1.0619, G_loss: 0.9740, D(x): 0.56, D(G(z)): 0.33\n",
            "Epoch [42/100], Batch [200/600], D_loss: 1.2461, G_loss: 0.9597, D(x): 0.54, D(G(z)): 0.37\n",
            "Epoch [42/100], Batch [400/600], D_loss: 1.1249, G_loss: 0.8772, D(x): 0.56, D(G(z)): 0.36\n",
            "Epoch [42/100], Batch [600/600], D_loss: 1.0872, G_loss: 1.2608, D(x): 0.65, D(G(z)): 0.44\n",
            "Epoch [43/100], Batch [200/600], D_loss: 1.1739, G_loss: 1.2219, D(x): 0.59, D(G(z)): 0.41\n",
            "Epoch [43/100], Batch [400/600], D_loss: 1.2690, G_loss: 1.5939, D(x): 0.73, D(G(z)): 0.58\n",
            "Epoch [43/100], Batch [600/600], D_loss: 1.1015, G_loss: 0.9939, D(x): 0.52, D(G(z)): 0.27\n",
            "Epoch [44/100], Batch [200/600], D_loss: 1.1354, G_loss: 0.9030, D(x): 0.51, D(G(z)): 0.29\n",
            "Epoch [44/100], Batch [400/600], D_loss: 1.1869, G_loss: 0.9509, D(x): 0.54, D(G(z)): 0.37\n",
            "Epoch [44/100], Batch [600/600], D_loss: 0.9812, G_loss: 1.3657, D(x): 0.66, D(G(z)): 0.39\n",
            "Epoch [45/100], Batch [200/600], D_loss: 1.2624, G_loss: 1.4222, D(x): 0.65, D(G(z)): 0.51\n",
            "Epoch [45/100], Batch [400/600], D_loss: 1.2003, G_loss: 1.2588, D(x): 0.65, D(G(z)): 0.47\n",
            "Epoch [45/100], Batch [600/600], D_loss: 1.1476, G_loss: 1.1284, D(x): 0.72, D(G(z)): 0.52\n",
            "Epoch [46/100], Batch [200/600], D_loss: 1.1806, G_loss: 0.9571, D(x): 0.51, D(G(z)): 0.32\n",
            "Epoch [46/100], Batch [400/600], D_loss: 1.2652, G_loss: 1.7899, D(x): 0.71, D(G(z)): 0.56\n",
            "Epoch [46/100], Batch [600/600], D_loss: 1.3051, G_loss: 1.3049, D(x): 0.64, D(G(z)): 0.52\n",
            "Epoch [47/100], Batch [200/600], D_loss: 1.1353, G_loss: 1.3003, D(x): 0.66, D(G(z)): 0.45\n",
            "Epoch [47/100], Batch [400/600], D_loss: 1.1281, G_loss: 0.9907, D(x): 0.60, D(G(z)): 0.41\n",
            "Epoch [47/100], Batch [600/600], D_loss: 1.0951, G_loss: 1.2173, D(x): 0.64, D(G(z)): 0.43\n",
            "Epoch [48/100], Batch [200/600], D_loss: 1.0957, G_loss: 1.2150, D(x): 0.58, D(G(z)): 0.36\n",
            "Epoch [48/100], Batch [400/600], D_loss: 1.1361, G_loss: 1.3443, D(x): 0.68, D(G(z)): 0.48\n",
            "Epoch [48/100], Batch [600/600], D_loss: 1.2223, G_loss: 1.0133, D(x): 0.56, D(G(z)): 0.41\n",
            "Epoch [49/100], Batch [200/600], D_loss: 1.1260, G_loss: 0.9392, D(x): 0.64, D(G(z)): 0.44\n",
            "Epoch [49/100], Batch [400/600], D_loss: 1.1724, G_loss: 1.5249, D(x): 0.79, D(G(z)): 0.55\n",
            "Epoch [49/100], Batch [600/600], D_loss: 1.1572, G_loss: 0.8411, D(x): 0.53, D(G(z)): 0.34\n",
            "Epoch [50/100], Batch [200/600], D_loss: 1.1893, G_loss: 1.0087, D(x): 0.53, D(G(z)): 0.35\n",
            "Epoch [50/100], Batch [400/600], D_loss: 1.2312, G_loss: 1.1666, D(x): 0.57, D(G(z)): 0.42\n",
            "Epoch [50/100], Batch [600/600], D_loss: 1.0960, G_loss: 1.2236, D(x): 0.61, D(G(z)): 0.39\n",
            "Epoch [51/100], Batch [200/600], D_loss: 1.1022, G_loss: 1.1898, D(x): 0.58, D(G(z)): 0.33\n",
            "Epoch [51/100], Batch [400/600], D_loss: 1.1068, G_loss: 0.8720, D(x): 0.59, D(G(z)): 0.37\n",
            "Epoch [51/100], Batch [600/600], D_loss: 1.0831, G_loss: 1.2511, D(x): 0.69, D(G(z)): 0.46\n",
            "Epoch [52/100], Batch [200/600], D_loss: 1.1033, G_loss: 1.2471, D(x): 0.62, D(G(z)): 0.42\n",
            "Epoch [52/100], Batch [400/600], D_loss: 1.0959, G_loss: 0.9303, D(x): 0.56, D(G(z)): 0.33\n",
            "Epoch [52/100], Batch [600/600], D_loss: 1.2304, G_loss: 0.9663, D(x): 0.50, D(G(z)): 0.32\n",
            "Epoch [53/100], Batch [200/600], D_loss: 1.1305, G_loss: 1.2623, D(x): 0.69, D(G(z)): 0.49\n",
            "Epoch [53/100], Batch [400/600], D_loss: 1.1814, G_loss: 1.3875, D(x): 0.70, D(G(z)): 0.52\n",
            "Epoch [53/100], Batch [600/600], D_loss: 1.2339, G_loss: 0.7574, D(x): 0.47, D(G(z)): 0.31\n",
            "Epoch [54/100], Batch [200/600], D_loss: 1.0739, G_loss: 1.2050, D(x): 0.64, D(G(z)): 0.41\n",
            "Epoch [54/100], Batch [400/600], D_loss: 1.2287, G_loss: 1.6724, D(x): 0.72, D(G(z)): 0.54\n",
            "Epoch [54/100], Batch [600/600], D_loss: 1.0418, G_loss: 1.0624, D(x): 0.61, D(G(z)): 0.37\n",
            "Epoch [55/100], Batch [200/600], D_loss: 1.0968, G_loss: 1.5153, D(x): 0.70, D(G(z)): 0.46\n",
            "Epoch [55/100], Batch [400/600], D_loss: 1.1512, G_loss: 1.1921, D(x): 0.59, D(G(z)): 0.39\n",
            "Epoch [55/100], Batch [600/600], D_loss: 1.2489, G_loss: 1.2130, D(x): 0.62, D(G(z)): 0.47\n",
            "Epoch [56/100], Batch [200/600], D_loss: 1.1881, G_loss: 0.5634, D(x): 0.46, D(G(z)): 0.22\n",
            "Epoch [56/100], Batch [400/600], D_loss: 1.1001, G_loss: 1.1077, D(x): 0.69, D(G(z)): 0.48\n",
            "Epoch [56/100], Batch [600/600], D_loss: 1.0268, G_loss: 1.2096, D(x): 0.67, D(G(z)): 0.42\n",
            "Epoch [57/100], Batch [200/600], D_loss: 1.0767, G_loss: 1.2338, D(x): 0.65, D(G(z)): 0.43\n",
            "Epoch [57/100], Batch [400/600], D_loss: 1.2030, G_loss: 1.5492, D(x): 0.73, D(G(z)): 0.54\n",
            "Epoch [57/100], Batch [600/600], D_loss: 1.1563, G_loss: 0.7244, D(x): 0.50, D(G(z)): 0.31\n",
            "Epoch [58/100], Batch [200/600], D_loss: 0.9718, G_loss: 0.9251, D(x): 0.65, D(G(z)): 0.37\n",
            "Epoch [58/100], Batch [400/600], D_loss: 1.1792, G_loss: 0.7405, D(x): 0.48, D(G(z)): 0.27\n",
            "Epoch [58/100], Batch [600/600], D_loss: 1.1930, G_loss: 0.8920, D(x): 0.52, D(G(z)): 0.31\n",
            "Epoch [59/100], Batch [200/600], D_loss: 1.1795, G_loss: 0.8217, D(x): 0.49, D(G(z)): 0.29\n",
            "Epoch [59/100], Batch [400/600], D_loss: 1.1867, G_loss: 0.7077, D(x): 0.48, D(G(z)): 0.29\n",
            "Epoch [59/100], Batch [600/600], D_loss: 1.1501, G_loss: 1.4330, D(x): 0.70, D(G(z)): 0.49\n",
            "Epoch [60/100], Batch [200/600], D_loss: 1.0931, G_loss: 0.7780, D(x): 0.51, D(G(z)): 0.27\n",
            "Epoch [60/100], Batch [400/600], D_loss: 1.1269, G_loss: 1.2212, D(x): 0.58, D(G(z)): 0.39\n",
            "Epoch [60/100], Batch [600/600], D_loss: 1.1273, G_loss: 0.7293, D(x): 0.50, D(G(z)): 0.27\n",
            "Epoch [61/100], Batch [200/600], D_loss: 1.2833, G_loss: 0.6716, D(x): 0.42, D(G(z)): 0.24\n",
            "Epoch [61/100], Batch [400/600], D_loss: 1.1870, G_loss: 0.8721, D(x): 0.53, D(G(z)): 0.34\n",
            "Epoch [61/100], Batch [600/600], D_loss: 1.0640, G_loss: 1.3588, D(x): 0.66, D(G(z)): 0.42\n",
            "Epoch [62/100], Batch [200/600], D_loss: 1.0515, G_loss: 0.8864, D(x): 0.60, D(G(z)): 0.35\n",
            "Epoch [62/100], Batch [400/600], D_loss: 1.2906, G_loss: 1.3522, D(x): 0.78, D(G(z)): 0.60\n",
            "Epoch [62/100], Batch [600/600], D_loss: 1.1663, G_loss: 0.8244, D(x): 0.50, D(G(z)): 0.30\n",
            "Epoch [63/100], Batch [200/600], D_loss: 1.0897, G_loss: 1.3829, D(x): 0.65, D(G(z)): 0.42\n",
            "Epoch [63/100], Batch [400/600], D_loss: 0.9926, G_loss: 1.0136, D(x): 0.61, D(G(z)): 0.33\n",
            "Epoch [63/100], Batch [600/600], D_loss: 1.1384, G_loss: 1.0511, D(x): 0.56, D(G(z)): 0.34\n",
            "Epoch [64/100], Batch [200/600], D_loss: 0.9397, G_loss: 1.1609, D(x): 0.64, D(G(z)): 0.33\n",
            "Epoch [64/100], Batch [400/600], D_loss: 1.0956, G_loss: 0.9647, D(x): 0.55, D(G(z)): 0.31\n",
            "Epoch [64/100], Batch [600/600], D_loss: 1.1119, G_loss: 1.0903, D(x): 0.61, D(G(z)): 0.39\n",
            "Epoch [65/100], Batch [200/600], D_loss: 1.2544, G_loss: 1.4149, D(x): 0.76, D(G(z)): 0.57\n",
            "Epoch [65/100], Batch [400/600], D_loss: 1.1371, G_loss: 1.4098, D(x): 0.71, D(G(z)): 0.48\n",
            "Epoch [65/100], Batch [600/600], D_loss: 1.1189, G_loss: 1.1868, D(x): 0.66, D(G(z)): 0.45\n",
            "Epoch [66/100], Batch [200/600], D_loss: 0.9740, G_loss: 1.2525, D(x): 0.61, D(G(z)): 0.31\n",
            "Epoch [66/100], Batch [400/600], D_loss: 1.1234, G_loss: 1.1038, D(x): 0.63, D(G(z)): 0.42\n",
            "Epoch [66/100], Batch [600/600], D_loss: 1.0373, G_loss: 1.1645, D(x): 0.61, D(G(z)): 0.35\n",
            "Epoch [67/100], Batch [200/600], D_loss: 1.1622, G_loss: 1.2532, D(x): 0.52, D(G(z)): 0.31\n",
            "Epoch [67/100], Batch [400/600], D_loss: 1.1358, G_loss: 0.9175, D(x): 0.53, D(G(z)): 0.33\n",
            "Epoch [67/100], Batch [600/600], D_loss: 1.2642, G_loss: 1.2468, D(x): 0.78, D(G(z)): 0.59\n",
            "Epoch [68/100], Batch [200/600], D_loss: 1.1264, G_loss: 0.9798, D(x): 0.54, D(G(z)): 0.32\n",
            "Epoch [68/100], Batch [400/600], D_loss: 1.0908, G_loss: 0.8831, D(x): 0.54, D(G(z)): 0.29\n",
            "Epoch [68/100], Batch [600/600], D_loss: 1.1699, G_loss: 1.0746, D(x): 0.63, D(G(z)): 0.44\n",
            "Epoch [69/100], Batch [200/600], D_loss: 1.1726, G_loss: 0.8188, D(x): 0.51, D(G(z)): 0.29\n",
            "Epoch [69/100], Batch [400/600], D_loss: 1.0620, G_loss: 1.3638, D(x): 0.67, D(G(z)): 0.42\n",
            "Epoch [69/100], Batch [600/600], D_loss: 1.1303, G_loss: 1.3934, D(x): 0.66, D(G(z)): 0.44\n",
            "Epoch [70/100], Batch [200/600], D_loss: 1.0818, G_loss: 1.1478, D(x): 0.64, D(G(z)): 0.41\n",
            "Epoch [70/100], Batch [400/600], D_loss: 1.1123, G_loss: 1.3037, D(x): 0.64, D(G(z)): 0.42\n",
            "Epoch [70/100], Batch [600/600], D_loss: 1.0564, G_loss: 1.0888, D(x): 0.57, D(G(z)): 0.33\n",
            "Epoch [71/100], Batch [200/600], D_loss: 1.0621, G_loss: 1.1829, D(x): 0.64, D(G(z)): 0.40\n",
            "Epoch [71/100], Batch [400/600], D_loss: 1.1863, G_loss: 1.2053, D(x): 0.60, D(G(z)): 0.42\n",
            "Epoch [71/100], Batch [600/600], D_loss: 1.1752, G_loss: 1.5285, D(x): 0.68, D(G(z)): 0.47\n",
            "Epoch [72/100], Batch [200/600], D_loss: 1.0506, G_loss: 1.0257, D(x): 0.59, D(G(z)): 0.32\n",
            "Epoch [72/100], Batch [400/600], D_loss: 1.1004, G_loss: 1.4146, D(x): 0.72, D(G(z)): 0.46\n",
            "Epoch [72/100], Batch [600/600], D_loss: 1.0137, G_loss: 1.3311, D(x): 0.72, D(G(z)): 0.45\n",
            "Epoch [73/100], Batch [200/600], D_loss: 1.1387, G_loss: 1.3744, D(x): 0.71, D(G(z)): 0.49\n",
            "Epoch [73/100], Batch [400/600], D_loss: 1.0460, G_loss: 1.0386, D(x): 0.64, D(G(z)): 0.38\n",
            "Epoch [73/100], Batch [600/600], D_loss: 1.0279, G_loss: 1.1616, D(x): 0.69, D(G(z)): 0.41\n",
            "Epoch [74/100], Batch [200/600], D_loss: 1.1443, G_loss: 1.0051, D(x): 0.55, D(G(z)): 0.34\n",
            "Epoch [74/100], Batch [400/600], D_loss: 0.9514, G_loss: 0.9713, D(x): 0.61, D(G(z)): 0.31\n",
            "Epoch [74/100], Batch [600/600], D_loss: 1.0886, G_loss: 1.0886, D(x): 0.67, D(G(z)): 0.43\n",
            "Epoch [75/100], Batch [200/600], D_loss: 1.0532, G_loss: 0.8609, D(x): 0.55, D(G(z)): 0.29\n",
            "Epoch [75/100], Batch [400/600], D_loss: 1.1228, G_loss: 0.9815, D(x): 0.51, D(G(z)): 0.28\n",
            "Epoch [75/100], Batch [600/600], D_loss: 1.1999, G_loss: 0.9681, D(x): 0.51, D(G(z)): 0.30\n",
            "Epoch [76/100], Batch [200/600], D_loss: 1.1298, G_loss: 0.8117, D(x): 0.51, D(G(z)): 0.26\n",
            "Epoch [76/100], Batch [400/600], D_loss: 1.1576, G_loss: 0.9468, D(x): 0.59, D(G(z)): 0.41\n",
            "Epoch [76/100], Batch [600/600], D_loss: 1.0887, G_loss: 0.9979, D(x): 0.59, D(G(z)): 0.37\n",
            "Epoch [77/100], Batch [200/600], D_loss: 1.0769, G_loss: 1.3304, D(x): 0.65, D(G(z)): 0.40\n",
            "Epoch [77/100], Batch [400/600], D_loss: 1.0459, G_loss: 1.2767, D(x): 0.67, D(G(z)): 0.40\n",
            "Epoch [77/100], Batch [600/600], D_loss: 1.0519, G_loss: 1.2120, D(x): 0.62, D(G(z)): 0.36\n",
            "Epoch [78/100], Batch [200/600], D_loss: 1.1808, G_loss: 1.2389, D(x): 0.56, D(G(z)): 0.36\n",
            "Epoch [78/100], Batch [400/600], D_loss: 1.0282, G_loss: 0.9012, D(x): 0.59, D(G(z)): 0.32\n",
            "Epoch [78/100], Batch [600/600], D_loss: 1.0900, G_loss: 0.8095, D(x): 0.56, D(G(z)): 0.33\n",
            "Epoch [79/100], Batch [200/600], D_loss: 0.9656, G_loss: 1.3352, D(x): 0.65, D(G(z)): 0.36\n",
            "Epoch [79/100], Batch [400/600], D_loss: 1.0299, G_loss: 1.0328, D(x): 0.60, D(G(z)): 0.35\n",
            "Epoch [79/100], Batch [600/600], D_loss: 1.1238, G_loss: 1.2447, D(x): 0.64, D(G(z)): 0.41\n",
            "Epoch [80/100], Batch [200/600], D_loss: 1.1459, G_loss: 1.1385, D(x): 0.51, D(G(z)): 0.28\n",
            "Epoch [80/100], Batch [400/600], D_loss: 1.3543, G_loss: 1.7429, D(x): 0.82, D(G(z)): 0.60\n",
            "Epoch [80/100], Batch [600/600], D_loss: 1.1834, G_loss: 1.1832, D(x): 0.67, D(G(z)): 0.47\n",
            "Epoch [81/100], Batch [200/600], D_loss: 1.2031, G_loss: 1.1459, D(x): 0.56, D(G(z)): 0.34\n",
            "Epoch [81/100], Batch [400/600], D_loss: 1.0441, G_loss: 1.2572, D(x): 0.62, D(G(z)): 0.36\n",
            "Epoch [81/100], Batch [600/600], D_loss: 1.0424, G_loss: 1.4195, D(x): 0.65, D(G(z)): 0.39\n",
            "Epoch [82/100], Batch [200/600], D_loss: 1.0941, G_loss: 1.6854, D(x): 0.73, D(G(z)): 0.49\n",
            "Epoch [82/100], Batch [400/600], D_loss: 1.1571, G_loss: 0.7776, D(x): 0.49, D(G(z)): 0.26\n",
            "Epoch [82/100], Batch [600/600], D_loss: 1.0447, G_loss: 1.3099, D(x): 0.67, D(G(z)): 0.40\n",
            "Epoch [83/100], Batch [200/600], D_loss: 1.0598, G_loss: 1.3666, D(x): 0.69, D(G(z)): 0.44\n",
            "Epoch [83/100], Batch [400/600], D_loss: 1.1002, G_loss: 1.2119, D(x): 0.61, D(G(z)): 0.39\n",
            "Epoch [83/100], Batch [600/600], D_loss: 1.1261, G_loss: 0.9578, D(x): 0.56, D(G(z)): 0.35\n",
            "Epoch [84/100], Batch [200/600], D_loss: 1.0326, G_loss: 1.1523, D(x): 0.67, D(G(z)): 0.41\n",
            "Epoch [84/100], Batch [400/600], D_loss: 1.1089, G_loss: 1.1579, D(x): 0.61, D(G(z)): 0.41\n",
            "Epoch [84/100], Batch [600/600], D_loss: 1.0954, G_loss: 0.9750, D(x): 0.55, D(G(z)): 0.31\n",
            "Epoch [85/100], Batch [200/600], D_loss: 1.0946, G_loss: 0.9669, D(x): 0.57, D(G(z)): 0.33\n",
            "Epoch [85/100], Batch [400/600], D_loss: 0.9665, G_loss: 1.1414, D(x): 0.57, D(G(z)): 0.25\n",
            "Epoch [85/100], Batch [600/600], D_loss: 0.9656, G_loss: 1.1539, D(x): 0.66, D(G(z)): 0.34\n",
            "Epoch [86/100], Batch [200/600], D_loss: 1.0295, G_loss: 1.1261, D(x): 0.64, D(G(z)): 0.38\n",
            "Epoch [86/100], Batch [400/600], D_loss: 1.0914, G_loss: 1.5771, D(x): 0.67, D(G(z)): 0.41\n",
            "Epoch [86/100], Batch [600/600], D_loss: 1.0061, G_loss: 1.3304, D(x): 0.68, D(G(z)): 0.39\n",
            "Epoch [87/100], Batch [200/600], D_loss: 1.0088, G_loss: 1.2844, D(x): 0.60, D(G(z)): 0.32\n",
            "Epoch [87/100], Batch [400/600], D_loss: 1.1081, G_loss: 0.8599, D(x): 0.52, D(G(z)): 0.27\n",
            "Epoch [87/100], Batch [600/600], D_loss: 1.0206, G_loss: 1.3130, D(x): 0.69, D(G(z)): 0.40\n",
            "Epoch [88/100], Batch [200/600], D_loss: 0.9860, G_loss: 1.3440, D(x): 0.65, D(G(z)): 0.36\n",
            "Epoch [88/100], Batch [400/600], D_loss: 1.1642, G_loss: 0.9170, D(x): 0.50, D(G(z)): 0.27\n",
            "Epoch [88/100], Batch [600/600], D_loss: 1.4203, G_loss: 0.3922, D(x): 0.35, D(G(z)): 0.15\n",
            "Epoch [89/100], Batch [200/600], D_loss: 1.0900, G_loss: 0.8338, D(x): 0.60, D(G(z)): 0.35\n",
            "Epoch [89/100], Batch [400/600], D_loss: 1.0420, G_loss: 1.0386, D(x): 0.61, D(G(z)): 0.34\n",
            "Epoch [89/100], Batch [600/600], D_loss: 0.9875, G_loss: 0.9608, D(x): 0.70, D(G(z)): 0.42\n",
            "Epoch [90/100], Batch [200/600], D_loss: 1.0431, G_loss: 0.8049, D(x): 0.53, D(G(z)): 0.27\n",
            "Epoch [90/100], Batch [400/600], D_loss: 1.2572, G_loss: 1.8054, D(x): 0.77, D(G(z)): 0.56\n",
            "Epoch [90/100], Batch [600/600], D_loss: 1.0505, G_loss: 1.0459, D(x): 0.59, D(G(z)): 0.34\n",
            "Epoch [91/100], Batch [200/600], D_loss: 1.0062, G_loss: 1.0793, D(x): 0.63, D(G(z)): 0.34\n",
            "Epoch [91/100], Batch [400/600], D_loss: 1.1918, G_loss: 1.8819, D(x): 0.78, D(G(z)): 0.54\n",
            "Epoch [91/100], Batch [600/600], D_loss: 1.1371, G_loss: 0.9417, D(x): 0.65, D(G(z)): 0.42\n",
            "Epoch [92/100], Batch [200/600], D_loss: 1.0739, G_loss: 0.9296, D(x): 0.56, D(G(z)): 0.30\n",
            "Epoch [92/100], Batch [400/600], D_loss: 1.0818, G_loss: 1.4271, D(x): 0.68, D(G(z)): 0.41\n",
            "Epoch [92/100], Batch [600/600], D_loss: 1.0847, G_loss: 1.4153, D(x): 0.70, D(G(z)): 0.42\n",
            "Epoch [93/100], Batch [200/600], D_loss: 1.0234, G_loss: 1.3418, D(x): 0.65, D(G(z)): 0.37\n",
            "Epoch [93/100], Batch [400/600], D_loss: 1.0357, G_loss: 0.9862, D(x): 0.59, D(G(z)): 0.31\n",
            "Epoch [93/100], Batch [600/600], D_loss: 1.1244, G_loss: 1.4433, D(x): 0.58, D(G(z)): 0.33\n",
            "Epoch [94/100], Batch [200/600], D_loss: 1.0896, G_loss: 0.9499, D(x): 0.57, D(G(z)): 0.31\n",
            "Epoch [94/100], Batch [400/600], D_loss: 0.9900, G_loss: 1.1296, D(x): 0.71, D(G(z)): 0.42\n",
            "Epoch [94/100], Batch [600/600], D_loss: 1.0358, G_loss: 1.4228, D(x): 0.66, D(G(z)): 0.39\n",
            "Epoch [95/100], Batch [200/600], D_loss: 1.0824, G_loss: 1.0980, D(x): 0.64, D(G(z)): 0.40\n",
            "Epoch [95/100], Batch [400/600], D_loss: 1.1178, G_loss: 1.3774, D(x): 0.75, D(G(z)): 0.50\n",
            "Epoch [95/100], Batch [600/600], D_loss: 1.0569, G_loss: 1.5303, D(x): 0.69, D(G(z)): 0.42\n",
            "Epoch [96/100], Batch [200/600], D_loss: 1.0604, G_loss: 1.3002, D(x): 0.67, D(G(z)): 0.41\n",
            "Epoch [96/100], Batch [400/600], D_loss: 1.1238, G_loss: 0.7152, D(x): 0.53, D(G(z)): 0.27\n",
            "Epoch [96/100], Batch [600/600], D_loss: 1.0429, G_loss: 1.2063, D(x): 0.67, D(G(z)): 0.40\n",
            "Epoch [97/100], Batch [200/600], D_loss: 1.0839, G_loss: 1.6478, D(x): 0.67, D(G(z)): 0.43\n",
            "Epoch [97/100], Batch [400/600], D_loss: 1.0504, G_loss: 1.5385, D(x): 0.68, D(G(z)): 0.42\n",
            "Epoch [97/100], Batch [600/600], D_loss: 0.9913, G_loss: 1.2307, D(x): 0.63, D(G(z)): 0.33\n",
            "Epoch [98/100], Batch [200/600], D_loss: 1.1414, G_loss: 1.5801, D(x): 0.75, D(G(z)): 0.51\n",
            "Epoch [98/100], Batch [400/600], D_loss: 1.0262, G_loss: 1.0854, D(x): 0.63, D(G(z)): 0.34\n",
            "Epoch [98/100], Batch [600/600], D_loss: 0.9647, G_loss: 1.0898, D(x): 0.69, D(G(z)): 0.38\n",
            "Epoch [99/100], Batch [200/600], D_loss: 1.1384, G_loss: 1.3967, D(x): 0.64, D(G(z)): 0.42\n",
            "Epoch [99/100], Batch [400/600], D_loss: 1.3091, G_loss: 1.5579, D(x): 0.83, D(G(z)): 0.61\n",
            "Epoch [99/100], Batch [600/600], D_loss: 1.1033, G_loss: 0.8820, D(x): 0.58, D(G(z)): 0.31\n",
            "Epoch [100/100], Batch [200/600], D_loss: 1.1412, G_loss: 0.8631, D(x): 0.57, D(G(z)): 0.34\n",
            "Epoch [100/100], Batch [400/600], D_loss: 1.1051, G_loss: 1.3117, D(x): 0.68, D(G(z)): 0.44\n",
            "Epoch [100/100], Batch [600/600], D_loss: 1.1602, G_loss: 1.4487, D(x): 0.67, D(G(z)): 0.45\n"
          ]
        }
      ]
    },
    {
      "cell_type": "code",
      "source": [
        "import pickle\n",
        "\n",
        "# Save models\n",
        "with open('/content/drive/MyDrive/Advanced ML/G.pkl', 'wb') as f:\n",
        "    pickle.dump(generator, f)\n",
        "\n",
        "with open('/content/drive/MyDrive/Advanced ML/D.pkl', 'wb') as f:\n",
        "    pickle.dump(discriminator, f)\n",
        "\n"
      ],
      "metadata": {
        "id": "brKhgxZINPT0"
      },
      "execution_count": null,
      "outputs": []
    },
    {
      "cell_type": "markdown",
      "source": [
        "##Create and annotate a fake data set"
      ],
      "metadata": {
        "id": "Za3AupQkQbf4"
      }
    },
    {
      "cell_type": "code",
      "source": [
        "import os\n",
        "import torch\n",
        "import numpy as np\n",
        "import torchvision.transforms as transforms\n",
        "import torchvision.utils as vutils\n",
        "import pickle\n",
        "import matplotlib.pyplot as plt\n",
        "\n",
        "# Load models\n",
        "with open('/content/drive/MyDrive/Advanced ML/G.pkl', 'rb') as f:\n",
        "    G = pickle.load(f)\n",
        "\n",
        "with open('/content/drive/MyDrive/Advanced ML/D.pkl', 'rb') as f:\n",
        "    D = pickle.load(f)\n",
        "\n",
        "# Create the directory for saving the fake digit images and latent samples\n",
        "save_dir = \"Fake_Digits\"\n",
        "os.makedirs(save_dir, exist_ok=True)\n",
        "\n",
        "# Generate and save fake digit images\n",
        "num_images = 100\n",
        "z_dim = 100  # Adjust this dimension according to your GAN model\n",
        "\n",
        "device = torch.device('cuda' if torch.cuda.is_available() else 'cpu')  # Use GPU if available\n",
        "\n",
        "# Create a blank canvas for the grid\n",
        "grid = np.zeros((10 * 28, 10 * 28))\n",
        "\n",
        "for i in range(num_images):\n",
        "    # Generate a fake digit image\n",
        "    z = torch.randn(1, z_dim).to(device)  # Move latent vector to the same device as the model\n",
        "    fake_image = G(z).detach().cpu().numpy().reshape(28, 28)\n",
        "\n",
        "    # Calculate the row and column indices for the current image\n",
        "    row = i // 10\n",
        "    col = i % 10\n",
        "\n",
        "    # Insert the fake image into the grid\n",
        "    grid[row * 28: (row + 1) * 28, col * 28: (col + 1) * 28] = fake_image\n",
        "\n",
        "    # Save the fake digit image\n",
        "    image_filename = os.path.join(save_dir, f\"{i:03d}.png\")\n",
        "    plt.imsave(image_filename, fake_image, cmap='gray')\n",
        "\n",
        "    # Save the latent sample Z as a text file\n",
        "    z_filename = os.path.join(save_dir, f\"{i:03d}.txt\")\n",
        "    np.savetxt(z_filename, z.detach().cpu().numpy(), fmt='%.6f')\n",
        "\n",
        "# Save the grid of fake digits as a single image\n",
        "grid_filename = os.path.join(save_dir, \"grid.png\")\n",
        "plt.imshow(grid, cmap='gray')\n",
        "plt.axis('off')\n",
        "plt.savefig('Generated_Digits')\n"
      ],
      "metadata": {
        "id": "D-19La05G_8o",
        "colab": {
          "base_uri": "https://localhost:8080/",
          "height": 406
        },
        "outputId": "aaa2f85d-7c35-44cf-c9e2-494ed5c90e2d"
      },
      "execution_count": null,
      "outputs": [
        {
          "output_type": "display_data",
          "data": {
            "text/plain": [
              "<Figure size 640x480 with 1 Axes>"
            ],
            "image/png": "[encoded data removed]"
          },
          "metadata": {}
        }
      ]
    },
    {
      "cell_type": "markdown",
      "source": [
        "##Evaluate the new fake data set\n",
        "Here the classifier which is created in the CNN class was used."
      ],
      "metadata": {
        "id": "5K8EvaLSVmQG"
      }
    },
    {
      "cell_type": "code",
      "source": [
        "import torch\n",
        "\n",
        "from torchvision import datasets\n",
        "from torchvision.transforms import ToTensor\n",
        "\n",
        "import matplotlib.pyplot as plt\n",
        "\n",
        "import torch.nn as nn\n",
        "\n",
        "from torch import optim\n",
        "from torch.autograd import Variable\n",
        "device=torch.device('cuda' if torch.cuda.is_available() else 'cpu')"
      ],
      "metadata": {
        "id": "918nVPs_VqcI"
      },
      "execution_count": null,
      "outputs": []
    },
    {
      "cell_type": "code",
      "source": [
        "MNIST_path='/content/gdrive/My Drive/UoM - CSE - Teaching/MSc/CS5621 - Machine Learning/In21 (2021)/Data Sets'\n",
        "\n",
        "train_data=datasets.MNIST(\n",
        "    root=MNIST_path,\n",
        "    train=True,\n",
        "    transform=ToTensor(),\n",
        "    download=True,\n",
        ")\n",
        "\n",
        "\n",
        "test_data=datasets.MNIST(\n",
        "    root=MNIST_path,\n",
        "    train=False,\n",
        "    transform=ToTensor()\n",
        ")\n"
      ],
      "metadata": {
        "colab": {
          "base_uri": "https://localhost:8080/"
        },
        "id": "3YCmqYwlWdRu",
        "outputId": "f3a96f94-dcc3-4a11-9746-4741cd42fcb4"
      },
      "execution_count": null,
      "outputs": [
        {
          "output_type": "stream",
          "name": "stdout",
          "text": [
            "Downloading http://yann.lecun.com/exdb/mnist/train-images-idx3-ubyte.gz\n",
            "Downloading http://yann.lecun.com/exdb/mnist/train-images-idx3-ubyte.gz to /content/gdrive/My Drive/UoM - CSE - Teaching/MSc/CS5621 - Machine Learning/In21 (2021)/Data Sets/MNIST/raw/train-images-idx3-ubyte.gz\n"
          ]
        },
        {
          "output_type": "stream",
          "name": "stderr",
          "text": [
            "100%|██████████| 9912422/9912422 [00:00<00:00, 99255415.07it/s]\n"
          ]
        },
        {
          "output_type": "stream",
          "name": "stdout",
          "text": [
            "Extracting /content/gdrive/My Drive/UoM - CSE - Teaching/MSc/CS5621 - Machine Learning/In21 (2021)/Data Sets/MNIST/raw/train-images-idx3-ubyte.gz to /content/gdrive/My Drive/UoM - CSE - Teaching/MSc/CS5621 - Machine Learning/In21 (2021)/Data Sets/MNIST/raw\n",
            "\n",
            "Downloading http://yann.lecun.com/exdb/mnist/train-labels-idx1-ubyte.gz\n",
            "Downloading http://yann.lecun.com/exdb/mnist/train-labels-idx1-ubyte.gz to /content/gdrive/My Drive/UoM - CSE - Teaching/MSc/CS5621 - Machine Learning/In21 (2021)/Data Sets/MNIST/raw/train-labels-idx1-ubyte.gz\n"
          ]
        },
        {
          "output_type": "stream",
          "name": "stderr",
          "text": [
            "100%|██████████| 28881/28881 [00:00<00:00, 69658248.32it/s]"
          ]
        },
        {
          "output_type": "stream",
          "name": "stdout",
          "text": [
            "Extracting /content/gdrive/My Drive/UoM - CSE - Teaching/MSc/CS5621 - Machine Learning/In21 (2021)/Data Sets/MNIST/raw/train-labels-idx1-ubyte.gz to /content/gdrive/My Drive/UoM - CSE - Teaching/MSc/CS5621 - Machine Learning/In21 (2021)/Data Sets/MNIST/raw\n",
            "\n",
            "Downloading http://yann.lecun.com/exdb/mnist/t10k-images-idx3-ubyte.gz\n",
            "Downloading http://yann.lecun.com/exdb/mnist/t10k-images-idx3-ubyte.gz to /content/gdrive/My Drive/UoM - CSE - Teaching/MSc/CS5621 - Machine Learning/In21 (2021)/Data Sets/MNIST/raw/t10k-images-idx3-ubyte.gz\n"
          ]
        },
        {
          "output_type": "stream",
          "name": "stderr",
          "text": [
            "\n",
            "100%|██████████| 1648877/1648877 [00:00<00:00, 26883827.07it/s]\n"
          ]
        },
        {
          "output_type": "stream",
          "name": "stdout",
          "text": [
            "Extracting /content/gdrive/My Drive/UoM - CSE - Teaching/MSc/CS5621 - Machine Learning/In21 (2021)/Data Sets/MNIST/raw/t10k-images-idx3-ubyte.gz to /content/gdrive/My Drive/UoM - CSE - Teaching/MSc/CS5621 - Machine Learning/In21 (2021)/Data Sets/MNIST/raw\n",
            "\n",
            "Downloading http://yann.lecun.com/exdb/mnist/t10k-labels-idx1-ubyte.gz\n",
            "Downloading http://yann.lecun.com/exdb/mnist/t10k-labels-idx1-ubyte.gz to /content/gdrive/My Drive/UoM - CSE - Teaching/MSc/CS5621 - Machine Learning/In21 (2021)/Data Sets/MNIST/raw/t10k-labels-idx1-ubyte.gz\n"
          ]
        },
        {
          "output_type": "stream",
          "name": "stderr",
          "text": [
            "100%|██████████| 4542/4542 [00:00<00:00, 5702043.93it/s]\n"
          ]
        },
        {
          "output_type": "stream",
          "name": "stdout",
          "text": [
            "Extracting /content/gdrive/My Drive/UoM - CSE - Teaching/MSc/CS5621 - Machine Learning/In21 (2021)/Data Sets/MNIST/raw/t10k-labels-idx1-ubyte.gz to /content/gdrive/My Drive/UoM - CSE - Teaching/MSc/CS5621 - Machine Learning/In21 (2021)/Data Sets/MNIST/raw\n",
            "\n"
          ]
        }
      ]
    },
    {
      "cell_type": "code",
      "source": [
        "from torch.utils.data import DataLoader\n",
        "loaders = {\n",
        "    'train' : torch.utils.data.DataLoader(train_data,\n",
        "                                          batch_size=100,\n",
        "                                          shuffle=True,\n",
        "                                          num_workers=1),\n",
        "\n",
        "    'test'  : torch.utils.data.DataLoader(test_data,\n",
        "                                          batch_size=100,\n",
        "                                          shuffle=True,\n",
        "                                          num_workers=1),\n",
        "}"
      ],
      "metadata": {
        "id": "UdxjFWqlWwte"
      },
      "execution_count": null,
      "outputs": []
    },
    {
      "cell_type": "code",
      "source": [
        "from torch.utils.data import DataLoader\n",
        "loaders = {\n",
        "    'train' : torch.utils.data.DataLoader(train_data,\n",
        "                                          batch_size=100,\n",
        "                                          shuffle=True,\n",
        "                                          num_workers=1),\n",
        "\n",
        "    'test'  : torch.utils.data.DataLoader(test_data,\n",
        "                                          batch_size=100,\n",
        "                                          shuffle=True,\n",
        "                                          num_workers=1),\n",
        "}"
      ],
      "metadata": {
        "id": "CLg8rrumW5V8"
      },
      "execution_count": null,
      "outputs": []
    },
    {
      "cell_type": "code",
      "source": [
        "class CNN(nn.Module):\n",
        "    def __init__(self):\n",
        "        super(CNN, self).__init__()\n",
        "        self.conv1 = nn.Sequential(\n",
        "            nn.Conv2d(\n",
        "                in_channels=1,\n",
        "                out_channels=36,  #16\n",
        "                kernel_size=5,\n",
        "                stride=1,\n",
        "                padding=2,\n",
        "            ),\n",
        "            nn.ReLU(),\n",
        "            nn.MaxPool2d(kernel_size=2),\n",
        "        )\n",
        "        self.conv2 = nn.Sequential(\n",
        "            nn.Conv2d(36, 32, 5, 1, 2),\n",
        "            nn.ReLU(),\n",
        "            nn.MaxPool2d(2),\n",
        "        )\n",
        "        # fully connected layer, output 10 classes\n",
        "        self.out = nn.Linear(32 * 7 * 7, 10)\n",
        "\n",
        "\n",
        "    def forward(self, x):\n",
        "        x = self.conv1(x)\n",
        "        x = self.conv2(x)\n",
        "        # flatten the output of conv2 to (batch_size, 32 * 7 * 7)\n",
        "        x = x.view(x.size(0), -1)\n",
        "        output = self.out(x)\n",
        "        return output, x    # return x for visualization\n",
        "\n"
      ],
      "metadata": {
        "id": "FieyGDQcXnTK"
      },
      "execution_count": null,
      "outputs": []
    },
    {
      "cell_type": "code",
      "source": [
        "cnn=CNN()\n",
        "print(cnn)"
      ],
      "metadata": {
        "colab": {
          "base_uri": "https://localhost:8080/"
        },
        "id": "x5sAyKuqXsCj",
        "outputId": "b23f4dc0-d2bf-4858-a851-9b6c76e17fee"
      },
      "execution_count": null,
      "outputs": [
        {
          "output_type": "stream",
          "name": "stdout",
          "text": [
            "CNN(\n",
            "  (conv1): Sequential(\n",
            "    (0): Conv2d(1, 36, kernel_size=(5, 5), stride=(1, 1), padding=(2, 2))\n",
            "    (1): ReLU()\n",
            "    (2): MaxPool2d(kernel_size=2, stride=2, padding=0, dilation=1, ceil_mode=False)\n",
            "  )\n",
            "  (conv2): Sequential(\n",
            "    (0): Conv2d(36, 32, kernel_size=(5, 5), stride=(1, 1), padding=(2, 2))\n",
            "    (1): ReLU()\n",
            "    (2): MaxPool2d(kernel_size=2, stride=2, padding=0, dilation=1, ceil_mode=False)\n",
            "  )\n",
            "  (out): Linear(in_features=1568, out_features=10, bias=True)\n",
            ")\n"
          ]
        }
      ]
    },
    {
      "cell_type": "code",
      "source": [
        "loss_func = nn.CrossEntropyLoss()\n",
        "optimizer = optim.Adam(cnn.parameters(), lr=0.01)"
      ],
      "metadata": {
        "id": "K0ja59LcXwBI"
      },
      "execution_count": null,
      "outputs": []
    },
    {
      "cell_type": "code",
      "source": [
        "num_epochs = 10\n",
        "\n",
        "#Remember to run on GPU\n",
        "\n",
        "def train(num_epochs, cnn, loaders):\n",
        "\n",
        "    cnn.train()\n",
        "\n",
        "    # Train the model\n",
        "    total_step = len(loaders['train'])\n",
        "\n",
        "    for epoch in range(num_epochs):\n",
        "        for i, (images, labels) in enumerate(loaders['train']):\n",
        "\n",
        "            # gives batch data, normalize x when iterate train_loader\n",
        "            b_x = Variable(images)   # batch x\n",
        "            b_y = Variable(labels)   # batch y\n",
        "            output = cnn(b_x)[0]\n",
        "            loss = loss_func(output, b_y)\n",
        "\n",
        "            # clear gradients for this training step\n",
        "            optimizer.zero_grad()\n",
        "\n",
        "            # backpropagation, compute gradients\n",
        "            loss.backward()\n",
        "            # apply gradients\n",
        "            optimizer.step()\n",
        "\n",
        "            if (i+1) % 100 == 0:\n",
        "                print ('Epoch [{}/{}], Step [{}/{}], Loss: {:.4f}'.format(epoch + 1, num_epochs, i + 1, total_step, loss.item()))\n",
        "                pass\n",
        "        pass\n",
        "    pass\n",
        "\n",
        "train(num_epochs, cnn, loaders)"
      ],
      "metadata": {
        "colab": {
          "base_uri": "https://localhost:8080/"
        },
        "id": "nmOOw5ZKX2lg",
        "outputId": "f8962522-d5de-4896-cb01-7a4d2ab77ff3"
      },
      "execution_count": null,
      "outputs": [
        {
          "output_type": "stream",
          "name": "stdout",
          "text": [
            "Epoch [1/10], Step [100/600], Loss: 0.1707\n",
            "Epoch [1/10], Step [200/600], Loss: 0.0951\n",
            "Epoch [1/10], Step [300/600], Loss: 0.0510\n",
            "Epoch [1/10], Step [400/600], Loss: 0.1334\n",
            "Epoch [1/10], Step [500/600], Loss: 0.1108\n",
            "Epoch [1/10], Step [600/600], Loss: 0.0243\n",
            "Epoch [2/10], Step [100/600], Loss: 0.0304\n",
            "Epoch [2/10], Step [200/600], Loss: 0.0074\n",
            "Epoch [2/10], Step [300/600], Loss: 0.0229\n",
            "Epoch [2/10], Step [400/600], Loss: 0.0637\n",
            "Epoch [2/10], Step [500/600], Loss: 0.0550\n",
            "Epoch [2/10], Step [600/600], Loss: 0.1366\n",
            "Epoch [3/10], Step [100/600], Loss: 0.0938\n",
            "Epoch [3/10], Step [200/600], Loss: 0.0258\n",
            "Epoch [3/10], Step [300/600], Loss: 0.1051\n",
            "Epoch [3/10], Step [400/600], Loss: 0.0211\n",
            "Epoch [3/10], Step [500/600], Loss: 0.0094\n",
            "Epoch [3/10], Step [600/600], Loss: 0.0412\n",
            "Epoch [4/10], Step [100/600], Loss: 0.0490\n",
            "Epoch [4/10], Step [200/600], Loss: 0.0493\n",
            "Epoch [4/10], Step [300/600], Loss: 0.0291\n",
            "Epoch [4/10], Step [400/600], Loss: 0.1062\n",
            "Epoch [4/10], Step [500/600], Loss: 0.0215\n",
            "Epoch [4/10], Step [600/600], Loss: 0.0596\n",
            "Epoch [5/10], Step [100/600], Loss: 0.0561\n",
            "Epoch [5/10], Step [200/600], Loss: 0.0613\n",
            "Epoch [5/10], Step [300/600], Loss: 0.1939\n",
            "Epoch [5/10], Step [400/600], Loss: 0.0181\n",
            "Epoch [5/10], Step [500/600], Loss: 0.0685\n",
            "Epoch [5/10], Step [600/600], Loss: 0.0998\n",
            "Epoch [6/10], Step [100/600], Loss: 0.0373\n",
            "Epoch [6/10], Step [200/600], Loss: 0.0059\n",
            "Epoch [6/10], Step [300/600], Loss: 0.2108\n",
            "Epoch [6/10], Step [400/600], Loss: 0.0507\n",
            "Epoch [6/10], Step [500/600], Loss: 0.0873\n",
            "Epoch [6/10], Step [600/600], Loss: 0.0744\n",
            "Epoch [7/10], Step [100/600], Loss: 0.0096\n",
            "Epoch [7/10], Step [200/600], Loss: 0.0038\n",
            "Epoch [7/10], Step [300/600], Loss: 0.0221\n",
            "Epoch [7/10], Step [400/600], Loss: 0.0119\n",
            "Epoch [7/10], Step [500/600], Loss: 0.0421\n",
            "Epoch [7/10], Step [600/600], Loss: 0.0742\n",
            "Epoch [8/10], Step [100/600], Loss: 0.0086\n",
            "Epoch [8/10], Step [200/600], Loss: 0.1296\n",
            "Epoch [8/10], Step [300/600], Loss: 0.0269\n",
            "Epoch [8/10], Step [400/600], Loss: 0.0112\n",
            "Epoch [8/10], Step [500/600], Loss: 0.0411\n",
            "Epoch [8/10], Step [600/600], Loss: 0.0331\n",
            "Epoch [9/10], Step [100/600], Loss: 0.0433\n",
            "Epoch [9/10], Step [200/600], Loss: 0.0413\n",
            "Epoch [9/10], Step [300/600], Loss: 0.0957\n",
            "Epoch [9/10], Step [400/600], Loss: 0.0403\n",
            "Epoch [9/10], Step [500/600], Loss: 0.0015\n",
            "Epoch [9/10], Step [600/600], Loss: 0.1146\n",
            "Epoch [10/10], Step [100/600], Loss: 0.0423\n",
            "Epoch [10/10], Step [200/600], Loss: 0.0588\n",
            "Epoch [10/10], Step [300/600], Loss: 0.0016\n",
            "Epoch [10/10], Step [400/600], Loss: 0.0759\n",
            "Epoch [10/10], Step [500/600], Loss: 0.1445\n",
            "Epoch [10/10], Step [600/600], Loss: 0.0101\n"
          ]
        }
      ]
    },
    {
      "cell_type": "code",
      "source": [
        "def test():\n",
        "  cnn.eval()\n",
        "  with torch.no_grad():\n",
        "    correct=0\n",
        "    total=0\n",
        "    for images, labels in loaders['test']:\n",
        "      test_output,last_layer=cnn(images)\n",
        "      pred_y=torch.max(test_output,1)[1].data.squeeze()\n",
        "      accuracy=(pred_y==labels).sum().item()/float(labels.size(0))\n",
        "      pass\n",
        "    print('Test Acc %.2f' % accuracy)\n",
        "    pass\n",
        "\n",
        "\n",
        "test()"
      ],
      "metadata": {
        "colab": {
          "base_uri": "https://localhost:8080/"
        },
        "id": "TedmETDOaXr_",
        "outputId": "19cc103a-a033-4e59-bd87-729cd2e1a9c2"
      },
      "execution_count": null,
      "outputs": [
        {
          "output_type": "stream",
          "name": "stdout",
          "text": [
            "Test Acc 1.00\n"
          ]
        }
      ]
    },
    {
      "cell_type": "code",
      "source": [
        "with open('/content/drive/MyDrive/Advanced ML/C.pkl', 'wb') as f:\n",
        "    pickle.dump(cnn, f)"
      ],
      "metadata": {
        "id": "I1A0T8RNYTtX"
      },
      "execution_count": null,
      "outputs": []
    },
    {
      "cell_type": "code",
      "source": [
        "import torch\n",
        "import torchvision.datasets as datasets\n",
        "import torchvision.transforms as transforms\n",
        "import pickle\n",
        "\n",
        "# Load the trained classifier C from the saved file\n",
        "with open('/content/drive/MyDrive/Advanced ML/C.pkl', 'rb') as f:\n",
        "    classifier = pickle.load(f)\n",
        "\n",
        "# Set up the MNIST test dataset (S0)\n",
        "transform = transforms.Compose([transforms.ToTensor()])\n",
        "mnist_test = datasets.MNIST(root='./data', train=False, download=True, transform=transform)\n",
        "num_samples = 100\n",
        "indices = torch.randperm(len(mnist_test))[:num_samples]\n",
        "s0_images = mnist_test.data[indices]\n",
        "s0_labels = mnist_test.targets[indices]\n",
        "\n",
        "# Reshape S0 images to match the expected input shape of the classifier\n",
        "s0_images = s0_images.unsqueeze(1).float()\n",
        "\n",
        "# Classify the S0 images\n",
        "s0_outputs, _ = classifier(s0_images)\n",
        "s0_predicted_labels = torch.argmax(s0_outputs, dim=1)\n",
        "\n",
        "# Calculate the classification error for S0\n",
        "s0_error = torch.mean((s0_predicted_labels != s0_labels).float()).item()\n",
        "\n",
        "print(\"Classification Error for S0:\", s0_error)\n",
        "\n",
        "# Set up the Fake_Digits dataset (S1)\n",
        "transform = transforms.Compose([\n",
        "    transforms.Grayscale(),\n",
        "    transforms.ToTensor(),\n",
        "    transforms.Normalize((0.5,), (0.5,))\n",
        "])\n",
        "s1_dataset = datasets.ImageFolder(root='/content/drive/MyDrive/Advanced ML/Fake_Digits', transform=transform)\n",
        "\n",
        "# Create the DataLoader for S1\n",
        "s1_dataloader = torch.utils.data.DataLoader(s1_dataset, batch_size=128, shuffle=False)\n",
        "\n",
        "\n",
        "# Classify the S1 images\n",
        "total_samples = 0\n",
        "total_error = 0\n",
        "\n",
        "for images, labels in s1_dataloader:\n",
        "    # Reshape S1 images to match the expected input shape of the classifier\n",
        "    images = images.unsqueeze(1).float()\n",
        "    images = images.squeeze(1).float()\n",
        "\n",
        "    # Forward pass\n",
        "    s1_outputs, _ = classifier(images)\n",
        "    s1_predicted_labels = torch.argmax(s1_outputs, dim=1)\n",
        "\n",
        "    # Calculate the classification error for S1 batch\n",
        "    batch_error = torch.mean((s1_predicted_labels != labels).float()).item()\n",
        "\n",
        "    total_samples += labels.size(0)\n",
        "    total_error += batch_error * labels.size(0)\n",
        "\n",
        "s1_error = total_error / total_samples\n",
        "\n",
        "print(\"Classification Error for S1:\", s1_error)\n"
      ],
      "metadata": {
        "colab": {
          "base_uri": "https://localhost:8080/"
        },
        "id": "F7w6YdYbN21u",
        "outputId": "58b2eb53-7d91-4d36-a98c-74acd660677b"
      },
      "execution_count": null,
      "outputs": [
        {
          "output_type": "stream",
          "name": "stdout",
          "text": [
            "Classification Error for S0: 0.07999999821186066\n",
            "Classification Error for S1: 0.6847826242446899\n"
          ]
        }
      ]
    }
  ]
}